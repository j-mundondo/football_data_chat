{
 "cells": [
  {
   "cell_type": "code",
   "execution_count": 1,
   "metadata": {},
   "outputs": [
    {
     "name": "stdout",
     "output_type": "stream",
     "text": [
      "Requirement already satisfied: ipywidgets in c:\\users\\j.mundondo\\onedrive - statsports\\desktop\\statsportsdoc\\projects\\frequency_chat_ph\\footydata\\lib\\site-packages (8.1.5)\n",
      "Requirement already satisfied: comm>=0.1.3 in c:\\users\\j.mundondo\\onedrive - statsports\\desktop\\statsportsdoc\\projects\\frequency_chat_ph\\footydata\\lib\\site-packages (from ipywidgets) (0.2.2)\n",
      "Requirement already satisfied: ipython>=6.1.0 in c:\\users\\j.mundondo\\onedrive - statsports\\desktop\\statsportsdoc\\projects\\frequency_chat_ph\\footydata\\lib\\site-packages (from ipywidgets) (8.12.3)\n",
      "Requirement already satisfied: traitlets>=4.3.1 in c:\\users\\j.mundondo\\onedrive - statsports\\desktop\\statsportsdoc\\projects\\frequency_chat_ph\\footydata\\lib\\site-packages (from ipywidgets) (5.14.3)\n",
      "Requirement already satisfied: widgetsnbextension~=4.0.12 in c:\\users\\j.mundondo\\onedrive - statsports\\desktop\\statsportsdoc\\projects\\frequency_chat_ph\\footydata\\lib\\site-packages (from ipywidgets) (4.0.13)\n",
      "Requirement already satisfied: jupyterlab-widgets~=3.0.12 in c:\\users\\j.mundondo\\onedrive - statsports\\desktop\\statsportsdoc\\projects\\frequency_chat_ph\\footydata\\lib\\site-packages (from ipywidgets) (3.0.13)\n",
      "Requirement already satisfied: backcall in c:\\users\\j.mundondo\\onedrive - statsports\\desktop\\statsportsdoc\\projects\\frequency_chat_ph\\footydata\\lib\\site-packages (from ipython>=6.1.0->ipywidgets) (0.2.0)\n",
      "Requirement already satisfied: decorator in c:\\users\\j.mundondo\\onedrive - statsports\\desktop\\statsportsdoc\\projects\\frequency_chat_ph\\footydata\\lib\\site-packages (from ipython>=6.1.0->ipywidgets) (5.1.1)\n",
      "Requirement already satisfied: jedi>=0.16 in c:\\users\\j.mundondo\\onedrive - statsports\\desktop\\statsportsdoc\\projects\\frequency_chat_ph\\footydata\\lib\\site-packages (from ipython>=6.1.0->ipywidgets) (0.19.2)\n",
      "Requirement already satisfied: matplotlib-inline in c:\\users\\j.mundondo\\onedrive - statsports\\desktop\\statsportsdoc\\projects\\frequency_chat_ph\\footydata\\lib\\site-packages (from ipython>=6.1.0->ipywidgets) (0.1.7)\n",
      "Requirement already satisfied: pickleshare in c:\\users\\j.mundondo\\onedrive - statsports\\desktop\\statsportsdoc\\projects\\frequency_chat_ph\\footydata\\lib\\site-packages (from ipython>=6.1.0->ipywidgets) (0.7.5)\n",
      "Requirement already satisfied: prompt-toolkit!=3.0.37,<3.1.0,>=3.0.30 in c:\\users\\j.mundondo\\onedrive - statsports\\desktop\\statsportsdoc\\projects\\frequency_chat_ph\\footydata\\lib\\site-packages (from ipython>=6.1.0->ipywidgets) (3.0.48)\n",
      "Requirement already satisfied: pygments>=2.4.0 in c:\\users\\j.mundondo\\onedrive - statsports\\desktop\\statsportsdoc\\projects\\frequency_chat_ph\\footydata\\lib\\site-packages (from ipython>=6.1.0->ipywidgets) (2.18.0)\n",
      "Requirement already satisfied: stack-data in c:\\users\\j.mundondo\\onedrive - statsports\\desktop\\statsportsdoc\\projects\\frequency_chat_ph\\footydata\\lib\\site-packages (from ipython>=6.1.0->ipywidgets) (0.6.3)\n",
      "Requirement already satisfied: colorama in c:\\users\\j.mundondo\\onedrive - statsports\\desktop\\statsportsdoc\\projects\\frequency_chat_ph\\footydata\\lib\\site-packages (from ipython>=6.1.0->ipywidgets) (0.4.6)\n",
      "Requirement already satisfied: parso<0.9.0,>=0.8.4 in c:\\users\\j.mundondo\\onedrive - statsports\\desktop\\statsportsdoc\\projects\\frequency_chat_ph\\footydata\\lib\\site-packages (from jedi>=0.16->ipython>=6.1.0->ipywidgets) (0.8.4)\n",
      "Requirement already satisfied: wcwidth in c:\\users\\j.mundondo\\onedrive - statsports\\desktop\\statsportsdoc\\projects\\frequency_chat_ph\\footydata\\lib\\site-packages (from prompt-toolkit!=3.0.37,<3.1.0,>=3.0.30->ipython>=6.1.0->ipywidgets) (0.2.13)\n",
      "Requirement already satisfied: executing>=1.2.0 in c:\\users\\j.mundondo\\onedrive - statsports\\desktop\\statsportsdoc\\projects\\frequency_chat_ph\\footydata\\lib\\site-packages (from stack-data->ipython>=6.1.0->ipywidgets) (2.1.0)\n",
      "Requirement already satisfied: asttokens>=2.1.0 in c:\\users\\j.mundondo\\onedrive - statsports\\desktop\\statsportsdoc\\projects\\frequency_chat_ph\\footydata\\lib\\site-packages (from stack-data->ipython>=6.1.0->ipywidgets) (2.4.1)\n",
      "Requirement already satisfied: pure-eval in c:\\users\\j.mundondo\\onedrive - statsports\\desktop\\statsportsdoc\\projects\\frequency_chat_ph\\footydata\\lib\\site-packages (from stack-data->ipython>=6.1.0->ipywidgets) (0.2.3)\n",
      "Requirement already satisfied: six>=1.12.0 in c:\\users\\j.mundondo\\onedrive - statsports\\desktop\\statsportsdoc\\projects\\frequency_chat_ph\\footydata\\lib\\site-packages (from asttokens>=2.1.0->stack-data->ipython>=6.1.0->ipywidgets) (1.16.0)\n"
     ]
    }
   ],
   "source": [
    "!pip install ipywidgets"
   ]
  },
  {
   "cell_type": "code",
   "execution_count": 2,
   "metadata": {},
   "outputs": [
    {
     "name": "stdout",
     "output_type": "stream",
     "text": [
      "Preprocessing completed successfully\n",
      "Preprocessing completed successfully\n",
      "Preprocessing completed successfully\n"
     ]
    },
    {
     "name": "stderr",
     "output_type": "stream",
     "text": [
      "c:\\Users\\j.mundondo\\OneDrive - Statsports\\Desktop\\statsportsdoc\\Projects\\frequency_chat_PH\\LLM\\Langraph\\loaders_and_chroma_utils.py:16: LangChainDeprecationWarning: The class `HuggingFaceEmbeddings` was deprecated in LangChain 0.2.2 and will be removed in 1.0. An updated version of the class exists in the :class:`~langchain-huggingface package and should be used instead. To use it run `pip install -U :class:`~langchain-huggingface` and import as `from :class:`~langchain_huggingface import HuggingFaceEmbeddings``.\n",
      "  embedding_function = SentenceTransformerEmbeddings(model_name=\"all-MiniLM-L6-v2\")\n"
     ]
    },
    {
     "name": "stdout",
     "output_type": "stream",
     "text": [
      "Successfully loaded DOCX!\n"
     ]
    },
    {
     "ename": "",
     "evalue": "",
     "output_type": "error",
     "traceback": [
      "\u001b[1;31mThe Kernel crashed while executing code in the current cell or a previous cell. \n",
      "\u001b[1;31mPlease review the code in the cell(s) to identify a possible cause of the failure. \n",
      "\u001b[1;31mClick <a href='https://aka.ms/vscodeJupyterKernelCrash'>here</a> for more info. \n",
      "\u001b[1;31mView Jupyter <a href='command:jupyter.viewOutput'>log</a> for further details."
     ]
    }
   ],
   "source": [
    "# import pandas as pd\n",
    "from custom_agents_LG import load_session_data, agent_executor\n",
    "from llm import get_llama_3dot3_70b_versatile,get_llama_3dot1_8b_instant,get_70b_8192\n",
    "from loaders_and_chroma_utils import vectorstore, load_and_split_document\n",
    "from typing_extensions import List, TypedDict\n",
    "from langgraph.graph import START, StateGraph\n",
    "# from typing import TypedDict, List, Annotated\n",
    "# from langgraph.graph import StateGraph, END\n",
    "from langchain_core.prompts import PromptTemplate\n",
    "from langchain_core.documents import Document\n",
    "llm = get_llama_3dot1_8b_instant()"
   ]
  },
  {
   "cell_type": "code",
   "execution_count": 20,
   "metadata": {},
   "outputs": [],
   "source": [
    "class State(TypedDict):\n",
    "    question: str\n",
    "    context: List[Document]\n",
    "    player_metrics: str\n",
    "    answer: str\n",
    "    player_name: str  # Added to track player name"
   ]
  },
  {
   "cell_type": "code",
   "execution_count": 1,
   "metadata": {},
   "outputs": [
    {
     "name": "stdout",
     "output_type": "stream",
     "text": [
      "\n",
      "STEP 1: Loading document...\n",
      "ERROR during document processing: name 'load_and_split_document' is not defined\n"
     ]
    },
    {
     "name": "stderr",
     "output_type": "stream",
     "text": [
      "Traceback (most recent call last):\n",
      "  File \"C:\\Users\\j.mundondo\\AppData\\Local\\Temp\\ipykernel_912\\3787832191.py\", line 5, in verify_document_loading\n",
      "    splits = load_and_split_document(file_path)\n",
      "             ^^^^^^^^^^^^^^^^^^^^^^^\n",
      "NameError: name 'load_and_split_document' is not defined\n"
     ]
    }
   ],
   "source": [
    "def verify_document_loading(file_path: str):\n",
    "    \"\"\"Load, index, and verify document loading with detailed debugging.\"\"\"\n",
    "    print(\"\\nSTEP 1: Loading document...\")\n",
    "    try:\n",
    "        splits = load_and_split_document(file_path)\n",
    "        print(f\"Successfully split document into {len(splits)} chunks\")\n",
    "        print(\"\\nFirst chunk preview:\")\n",
    "        if splits:\n",
    "            print(splits[0].page_content[:])\n",
    "        \n",
    "        print(\"\\nSTEP 2: Clearing existing vectorstore...\")\n",
    "        existing_ids = vectorstore._collection.get()['ids']\n",
    "        if existing_ids:\n",
    "            vectorstore._collection.delete(ids=existing_ids)\n",
    "        print(\"Vectorstore cleared\")\n",
    "        \n",
    "        print(\"\\nSTEP 3: Indexing document chunks...\")\n",
    "        for i, split in enumerate(splits):\n",
    "            split.metadata['file_id'] = 1\n",
    "            split.metadata['chunk_id'] = i\n",
    "        \n",
    "        vectorstore.add_documents(splits)\n",
    "        print(f\"Added {len(splits)} chunks to vectorstore\")\n",
    "        \n",
    "        return True\n",
    "    except Exception as e:\n",
    "        print(f\"ERROR during document processing: {str(e)}\")\n",
    "        import traceback\n",
    "        traceback.print_exc()\n",
    "        return False\n",
    "file_path = r\"C:\\Users\\j.mundondo\\OneDrive - Statsports\\Desktop\\statsportsdoc\\Projects\\frequency_chat_PH\\data\\multi_session_hias\\Research Paper.docx\"\n",
    "success = verify_document_loading(file_path)"
   ]
  },
  {
   "cell_type": "code",
   "execution_count": 16,
   "metadata": {},
   "outputs": [],
   "source": [
    "# Graph nodes\n",
    "def extract_player_name(question: str) -> str:\n",
    "    \"\"\"Extract player name from the question using the LLM.\"\"\"\n",
    "    name_extraction_prompt = \"\"\"\n",
    "    Extract the player name(s) from the following question. \n",
    "    If no specific player is mentioned, return None.\n",
    "    Only return the name(s) without any additional text.\n",
    "    \n",
    "    Question: {question}\n",
    "    \"\"\"\n",
    "    \n",
    "    prompt = PromptTemplate.from_template(name_extraction_prompt)\n",
    "    messages = prompt.invoke({\"question\": question})\n",
    "    response = llm.invoke(messages).content.strip()\n",
    "    \n",
    "    return response if response.lower() != \"none\" else None"
   ]
  },
  {
   "cell_type": "code",
   "execution_count": 17,
   "metadata": {},
   "outputs": [],
   "source": [
    "def get_player_metrics(player_name: str) -> dict:\n",
    "    \"\"\"Get metrics for a specific player.\"\"\"\n",
    "    return agent_executor.invoke({\n",
    "        \"input\": f\"Get {player_name}'s metrics as a dictionary format\"\n",
    "    })[\"output\"]"
   ]
  },
  {
   "cell_type": "code",
   "execution_count": null,
   "metadata": {},
   "outputs": [],
   "source": [
    "def setup_initial_state(question: str) -> State:\n",
    "    \"\"\"Setup initial state without metrics - moved to separate node.\"\"\"\n",
    "    return {\n",
    "        \"question\": question,\n",
    "        \"context\": [],\n",
    "        \"player_metrics\": \"\",\n",
    "        \"answer\": \"\",\n",
    "        \"player_name\": \"\"\n",
    "    }"
   ]
  }
 ],
 "metadata": {
  "kernelspec": {
   "display_name": "footydata",
   "language": "python",
   "name": "python3"
  },
  "language_info": {
   "codemirror_mode": {
    "name": "ipython",
    "version": 3
   },
   "file_extension": ".py",
   "mimetype": "text/x-python",
   "name": "python",
   "nbconvert_exporter": "python",
   "pygments_lexer": "ipython3",
   "version": "3.11.9"
  }
 },
 "nbformat": 4,
 "nbformat_minor": 2
}
