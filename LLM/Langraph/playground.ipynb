{
 "cells": [
  {
   "cell_type": "code",
   "execution_count": 8,
   "metadata": {},
   "outputs": [],
   "source": [
    "# import pandas as pd\n",
    "# from custom_agents_LG import load_session_data, agent_executor\n",
    "from llm import get_llama_3dot3_70b_versatile,get_llama_3dot1_8b_instant,get_70b_8192\n",
    "from loaders_and_chroma_utils import vectorstore, load_and_split_document\n",
    "# from typing_extensions import List, TypedDict\n",
    "# from langgraph.graph import START, StateGraph\n",
    "# from typing import TypedDict, List, Annotated\n",
    "# from langgraph.graph import StateGraph, END\n",
    "from langchain_core.prompts import PromptTemplate\n",
    "# from langchain_core.documents import Document\n",
    "llm = get_70b_8192()"
   ]
  },
  {
   "cell_type": "code",
   "execution_count": 4,
   "metadata": {},
   "outputs": [
    {
     "name": "stdout",
     "output_type": "stream",
     "text": [
      "\n",
      "STEP 1: Loading document...\n",
      "Successfully loaded DOCX!\n",
      "Successfully split document into 11 chunks\n",
      "\n",
      "First chunk preview:\n",
      "# Relationship Between High-Intensity Activity Metrics and Injury Risk in Professional Athletes: A Longitudinal Analysis\n",
      "\n",
      "\n",
      "\n",
      "## Abstract\n",
      "\n",
      "\n",
      "\n",
      "This study investigated the relationship between high-intensi\n",
      "\n",
      "STEP 2: Clearing existing vectorstore...\n",
      "Vectorstore cleared\n",
      "\n",
      "STEP 3: Indexing document chunks...\n",
      "Added 11 chunks to vectorstore\n"
     ]
    }
   ],
   "source": [
    "def verify_document_loading(file_path: str):\n",
    "    \"\"\"Load, index, and verify document loading with detailed debugging.\"\"\"\n",
    "    print(\"\\nSTEP 1: Loading document...\")\n",
    "    try:\n",
    "        splits = load_and_split_document(file_path)\n",
    "        print(f\"Successfully split document into {len(splits)} chunks\")\n",
    "        print(\"\\nFirst chunk preview:\")\n",
    "        if splits:\n",
    "            print(splits[0].page_content[:200])\n",
    "        \n",
    "        print(\"\\nSTEP 2: Clearing existing vectorstore...\")\n",
    "        existing_ids = vectorstore._collection.get()['ids']\n",
    "        if existing_ids:\n",
    "            vectorstore._collection.delete(ids=existing_ids)\n",
    "        print(\"Vectorstore cleared\")\n",
    "        \n",
    "        print(\"\\nSTEP 3: Indexing document chunks...\")\n",
    "        for i, split in enumerate(splits):\n",
    "            split.metadata['file_id'] = 1\n",
    "            split.metadata['chunk_id'] = i\n",
    "        \n",
    "        vectorstore.add_documents(splits)\n",
    "        print(f\"Added {len(splits)} chunks to vectorstore\")\n",
    "        \n",
    "        return True\n",
    "    except Exception as e:\n",
    "        print(f\"ERROR during document processing: {str(e)}\")\n",
    "        import traceback\n",
    "        traceback.print_exc()\n",
    "        return False\n",
    "file_path = r\"C:\\Users\\j.mundondo\\OneDrive - Statsports\\Desktop\\statsportsdoc\\Projects\\frequency_chat_PH\\data\\multi_session_hias\\Research Paper.docx\"\n",
    "success = verify_document_loading(file_path)"
   ]
  },
  {
   "cell_type": "code",
   "execution_count": 9,
   "metadata": {},
   "outputs": [],
   "source": [
    "# Graph nodes\n",
    "def extract_player_name(question: str) -> str:\n",
    "    \"\"\"Extract player name from the question using the LLM.\"\"\"\n",
    "    name_extraction_prompt = \"\"\"\n",
    "    Extract the player name(s) from the following question. \n",
    "    If no specific player is mentioned, return None.\n",
    "    Only return the name(s) without any additional text.\n",
    "    \n",
    "    Question: {question}\n",
    "    \"\"\"\n",
    "    \n",
    "    prompt = PromptTemplate.from_template(name_extraction_prompt)\n",
    "    messages = prompt.invoke({\"question\": question})\n",
    "    response = llm.invoke(messages).content.strip()\n",
    "    \n",
    "    return response if response.lower() != \"none\" else None"
   ]
  }
 ],
 "metadata": {
  "kernelspec": {
   "display_name": "footydata",
   "language": "python",
   "name": "python3"
  },
  "language_info": {
   "codemirror_mode": {
    "name": "ipython",
    "version": 3
   },
   "file_extension": ".py",
   "mimetype": "text/x-python",
   "name": "python",
   "nbconvert_exporter": "python",
   "pygments_lexer": "ipython3",
   "version": "3.11.9"
  }
 },
 "nbformat": 4,
 "nbformat_minor": 2
}
