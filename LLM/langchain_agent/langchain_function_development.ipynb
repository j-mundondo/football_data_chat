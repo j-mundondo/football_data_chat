{
 "cells": [
  {
   "cell_type": "markdown",
   "metadata": {},
   "source": [
    "# Set Up"
   ]
  },
  {
   "cell_type": "code",
   "execution_count": 1,
   "metadata": {},
   "outputs": [],
   "source": [
    "from langchain_core.prompts import ChatPromptTemplate\n",
    "from langchain_groq import ChatGroq\n",
    "from langchain_core.documents import Document\n",
    "from dotenv import load_dotenv\n",
    "import os\n",
    "from langchain.agents.agent_types import AgentType\n",
    "from langchain_experimental.agents.agent_toolkits import create_pandas_dataframe_agent\n",
    "import pandas as pd\n",
    "from langchain.agents import AgentType\n",
    "from langchain_community.tools.pubmed.tool import PubmedQueryRun\n",
    "from langchain_community.tools.youtube.search import YouTubeSearchTool\n",
    "import openai\n",
    "import pandas as pd\n",
    "from langchain.agents import Tool\n",
    "from pathlib import Path\n",
    "\n",
    "df = pd.read_csv(r\"C:\\Users\\j.mundondo\\OneDrive - Statsports\\Desktop\\statsportsdoc\\Projects\\frequency_chat_PH\\data\\individual_efforts\\david_only_metrics.csv\")"
   ]
  },
  {
   "cell_type": "code",
   "execution_count": 2,
   "metadata": {},
   "outputs": [
    {
     "data": {
      "text/plain": [
       "Unnamed: 0                                  int64\n",
       "High Intensity Activity Type               object\n",
       "Start Time                                 object\n",
       "End Time                                   object\n",
       "Time Since Last                            object\n",
       "Duration                                   object\n",
       "Distance                                  float64\n",
       "Magnitude                                 float64\n",
       "Avg Metabolic Power                       float64\n",
       "Dynamic Stress Load                       float64\n",
       "Duration_seconds                          float64\n",
       "Long_sprint                                 int64\n",
       "Preceding High Intensity Activity Type     object\n",
       "dtype: object"
      ]
     },
     "execution_count": 2,
     "metadata": {},
     "output_type": "execute_result"
    }
   ],
   "source": [
    "df.dtypes"
   ]
  },
  {
   "cell_type": "code",
   "execution_count": 3,
   "metadata": {},
   "outputs": [
    {
     "data": {
      "text/html": [
       "<div>\n",
       "<style scoped>\n",
       "    .dataframe tbody tr th:only-of-type {\n",
       "        vertical-align: middle;\n",
       "    }\n",
       "\n",
       "    .dataframe tbody tr th {\n",
       "        vertical-align: top;\n",
       "    }\n",
       "\n",
       "    .dataframe thead th {\n",
       "        text-align: right;\n",
       "    }\n",
       "</style>\n",
       "<table border=\"1\" class=\"dataframe\">\n",
       "  <thead>\n",
       "    <tr style=\"text-align: right;\">\n",
       "      <th></th>\n",
       "      <th>Unnamed: 0</th>\n",
       "      <th>High Intensity Activity Type</th>\n",
       "      <th>new-col</th>\n",
       "      <th>Start Time</th>\n",
       "      <th>End Time</th>\n",
       "      <th>Time Since Last</th>\n",
       "      <th>Duration</th>\n",
       "      <th>Distance</th>\n",
       "      <th>Magnitude</th>\n",
       "      <th>Avg Metabolic Power</th>\n",
       "      <th>Dynamic Stress Load</th>\n",
       "      <th>Duration_seconds</th>\n",
       "      <th>Long_sprint</th>\n",
       "      <th>Preceding High Intensity Activity Type</th>\n",
       "    </tr>\n",
       "  </thead>\n",
       "  <tbody>\n",
       "    <tr>\n",
       "      <th>0</th>\n",
       "      <td>0</td>\n",
       "      <td>Acceleration</td>\n",
       "      <td>2025-01-07 19:58:34.300</td>\n",
       "      <td>07/01/2025 19:58</td>\n",
       "      <td>2025-01-07 19:58:35</td>\n",
       "      <td>00:08.6</td>\n",
       "      <td>00:00.7</td>\n",
       "      <td>0.74</td>\n",
       "      <td>5.39</td>\n",
       "      <td>85.89</td>\n",
       "      <td>0.00</td>\n",
       "      <td>0.7</td>\n",
       "      <td>0</td>\n",
       "      <td>First Action</td>\n",
       "    </tr>\n",
       "    <tr>\n",
       "      <th>1</th>\n",
       "      <td>1</td>\n",
       "      <td>Deceleration</td>\n",
       "      <td>2025-01-07 19:58:35.600</td>\n",
       "      <td>07/01/2025 19:58</td>\n",
       "      <td>2025-01-07 19:58:37</td>\n",
       "      <td>00:02.0</td>\n",
       "      <td>00:01.4</td>\n",
       "      <td>0.63</td>\n",
       "      <td>3.34</td>\n",
       "      <td>2.39</td>\n",
       "      <td>0.00</td>\n",
       "      <td>1.4</td>\n",
       "      <td>0</td>\n",
       "      <td>Acceleration</td>\n",
       "    </tr>\n",
       "    <tr>\n",
       "      <th>2</th>\n",
       "      <td>2</td>\n",
       "      <td>Acceleration</td>\n",
       "      <td>2025-01-07 20:00:13.600</td>\n",
       "      <td>07/01/2025 20:00</td>\n",
       "      <td>2025-01-07 20:00:15</td>\n",
       "      <td>00:01.7</td>\n",
       "      <td>00:01.4</td>\n",
       "      <td>5.06</td>\n",
       "      <td>3.69</td>\n",
       "      <td>37.35</td>\n",
       "      <td>0.09</td>\n",
       "      <td>1.4</td>\n",
       "      <td>0</td>\n",
       "      <td>Deceleration</td>\n",
       "    </tr>\n",
       "    <tr>\n",
       "      <th>3</th>\n",
       "      <td>3</td>\n",
       "      <td>Deceleration</td>\n",
       "      <td>2025-01-07 20:00:17.300</td>\n",
       "      <td>07/01/2025 20:00</td>\n",
       "      <td>2025-01-07 20:00:19</td>\n",
       "      <td>00:04.1</td>\n",
       "      <td>00:01.7</td>\n",
       "      <td>1.31</td>\n",
       "      <td>3.51</td>\n",
       "      <td>27.38</td>\n",
       "      <td>0.03</td>\n",
       "      <td>1.7</td>\n",
       "      <td>0</td>\n",
       "      <td>Acceleration</td>\n",
       "    </tr>\n",
       "    <tr>\n",
       "      <th>4</th>\n",
       "      <td>4</td>\n",
       "      <td>Acceleration</td>\n",
       "      <td>2025-01-07 20:01:10.700</td>\n",
       "      <td>07/01/2025 20:01</td>\n",
       "      <td>2025-01-07 20:01:14</td>\n",
       "      <td>00:07.0</td>\n",
       "      <td>00:03.3</td>\n",
       "      <td>25.68</td>\n",
       "      <td>5.07</td>\n",
       "      <td>107.82</td>\n",
       "      <td>4.71</td>\n",
       "      <td>3.3</td>\n",
       "      <td>0</td>\n",
       "      <td>Deceleration</td>\n",
       "    </tr>\n",
       "    <tr>\n",
       "      <th>...</th>\n",
       "      <td>...</td>\n",
       "      <td>...</td>\n",
       "      <td>...</td>\n",
       "      <td>...</td>\n",
       "      <td>...</td>\n",
       "      <td>...</td>\n",
       "      <td>...</td>\n",
       "      <td>...</td>\n",
       "      <td>...</td>\n",
       "      <td>...</td>\n",
       "      <td>...</td>\n",
       "      <td>...</td>\n",
       "      <td>...</td>\n",
       "      <td>...</td>\n",
       "    </tr>\n",
       "    <tr>\n",
       "      <th>181</th>\n",
       "      <td>181</td>\n",
       "      <td>Acceleration</td>\n",
       "      <td>2025-01-07 21:49:55.200</td>\n",
       "      <td>07/01/2025 21:49</td>\n",
       "      <td>2025-01-07 21:49:58</td>\n",
       "      <td>00:05.9</td>\n",
       "      <td>00:02.8</td>\n",
       "      <td>13.16</td>\n",
       "      <td>3.86</td>\n",
       "      <td>69.68</td>\n",
       "      <td>1.29</td>\n",
       "      <td>2.8</td>\n",
       "      <td>0</td>\n",
       "      <td>Acceleration</td>\n",
       "    </tr>\n",
       "    <tr>\n",
       "      <th>182</th>\n",
       "      <td>182</td>\n",
       "      <td>Deceleration</td>\n",
       "      <td>2025-01-07 21:49:58.300</td>\n",
       "      <td>07/01/2025 21:49</td>\n",
       "      <td>2025-01-07 21:50:00</td>\n",
       "      <td>00:03.7</td>\n",
       "      <td>00:01.7</td>\n",
       "      <td>1.73</td>\n",
       "      <td>4.92</td>\n",
       "      <td>9.43</td>\n",
       "      <td>0.04</td>\n",
       "      <td>1.7</td>\n",
       "      <td>0</td>\n",
       "      <td>Acceleration</td>\n",
       "    </tr>\n",
       "    <tr>\n",
       "      <th>183</th>\n",
       "      <td>183</td>\n",
       "      <td>Deceleration</td>\n",
       "      <td>2025-01-07 21:50:20.100</td>\n",
       "      <td>07/01/2025 21:50</td>\n",
       "      <td>2025-01-07 21:50:22</td>\n",
       "      <td>00:12.9</td>\n",
       "      <td>00:01.9</td>\n",
       "      <td>5.04</td>\n",
       "      <td>3.07</td>\n",
       "      <td>34.48</td>\n",
       "      <td>0.18</td>\n",
       "      <td>1.9</td>\n",
       "      <td>0</td>\n",
       "      <td>Deceleration</td>\n",
       "    </tr>\n",
       "    <tr>\n",
       "      <th>184</th>\n",
       "      <td>184</td>\n",
       "      <td>Acceleration</td>\n",
       "      <td>2025-01-07 21:50:22.100</td>\n",
       "      <td>07/01/2025 21:50</td>\n",
       "      <td>2025-01-07 21:50:23</td>\n",
       "      <td>00:03.2</td>\n",
       "      <td>00:00.9</td>\n",
       "      <td>3.32</td>\n",
       "      <td>3.66</td>\n",
       "      <td>44.44</td>\n",
       "      <td>0.06</td>\n",
       "      <td>0.9</td>\n",
       "      <td>0</td>\n",
       "      <td>Deceleration</td>\n",
       "    </tr>\n",
       "    <tr>\n",
       "      <th>185</th>\n",
       "      <td>185</td>\n",
       "      <td>Acceleration</td>\n",
       "      <td>2025-01-07 21:50:59.700</td>\n",
       "      <td>07/01/2025 21:51</td>\n",
       "      <td>2025-01-07 21:51:02</td>\n",
       "      <td>00:00.6</td>\n",
       "      <td>00:02.3</td>\n",
       "      <td>0.95</td>\n",
       "      <td>3.30</td>\n",
       "      <td>2.03</td>\n",
       "      <td>0.01</td>\n",
       "      <td>2.3</td>\n",
       "      <td>0</td>\n",
       "      <td>Acceleration</td>\n",
       "    </tr>\n",
       "  </tbody>\n",
       "</table>\n",
       "<p>186 rows × 14 columns</p>\n",
       "</div>"
      ],
      "text/plain": [
       "     Unnamed: 0 High Intensity Activity Type                 new-col  \\\n",
       "0             0                 Acceleration 2025-01-07 19:58:34.300   \n",
       "1             1                 Deceleration 2025-01-07 19:58:35.600   \n",
       "2             2                 Acceleration 2025-01-07 20:00:13.600   \n",
       "3             3                 Deceleration 2025-01-07 20:00:17.300   \n",
       "4             4                 Acceleration 2025-01-07 20:01:10.700   \n",
       "..          ...                          ...                     ...   \n",
       "181         181                 Acceleration 2025-01-07 21:49:55.200   \n",
       "182         182                 Deceleration 2025-01-07 21:49:58.300   \n",
       "183         183                 Deceleration 2025-01-07 21:50:20.100   \n",
       "184         184                 Acceleration 2025-01-07 21:50:22.100   \n",
       "185         185                 Acceleration 2025-01-07 21:50:59.700   \n",
       "\n",
       "           Start Time            End Time Time Since Last Duration  Distance  \\\n",
       "0    07/01/2025 19:58 2025-01-07 19:58:35         00:08.6  00:00.7      0.74   \n",
       "1    07/01/2025 19:58 2025-01-07 19:58:37         00:02.0  00:01.4      0.63   \n",
       "2    07/01/2025 20:00 2025-01-07 20:00:15         00:01.7  00:01.4      5.06   \n",
       "3    07/01/2025 20:00 2025-01-07 20:00:19         00:04.1  00:01.7      1.31   \n",
       "4    07/01/2025 20:01 2025-01-07 20:01:14         00:07.0  00:03.3     25.68   \n",
       "..                ...                 ...             ...      ...       ...   \n",
       "181  07/01/2025 21:49 2025-01-07 21:49:58         00:05.9  00:02.8     13.16   \n",
       "182  07/01/2025 21:49 2025-01-07 21:50:00         00:03.7  00:01.7      1.73   \n",
       "183  07/01/2025 21:50 2025-01-07 21:50:22         00:12.9  00:01.9      5.04   \n",
       "184  07/01/2025 21:50 2025-01-07 21:50:23         00:03.2  00:00.9      3.32   \n",
       "185  07/01/2025 21:51 2025-01-07 21:51:02         00:00.6  00:02.3      0.95   \n",
       "\n",
       "     Magnitude  Avg Metabolic Power  Dynamic Stress Load  Duration_seconds  \\\n",
       "0         5.39                85.89                 0.00               0.7   \n",
       "1         3.34                 2.39                 0.00               1.4   \n",
       "2         3.69                37.35                 0.09               1.4   \n",
       "3         3.51                27.38                 0.03               1.7   \n",
       "4         5.07               107.82                 4.71               3.3   \n",
       "..         ...                  ...                  ...               ...   \n",
       "181       3.86                69.68                 1.29               2.8   \n",
       "182       4.92                 9.43                 0.04               1.7   \n",
       "183       3.07                34.48                 0.18               1.9   \n",
       "184       3.66                44.44                 0.06               0.9   \n",
       "185       3.30                 2.03                 0.01               2.3   \n",
       "\n",
       "     Long_sprint Preceding High Intensity Activity Type  \n",
       "0              0                           First Action  \n",
       "1              0                           Acceleration  \n",
       "2              0                           Deceleration  \n",
       "3              0                           Acceleration  \n",
       "4              0                           Deceleration  \n",
       "..           ...                                    ...  \n",
       "181            0                           Acceleration  \n",
       "182            0                           Acceleration  \n",
       "183            0                           Deceleration  \n",
       "184            0                           Deceleration  \n",
       "185            0                           Acceleration  \n",
       "\n",
       "[186 rows x 14 columns]"
      ]
     },
     "execution_count": 3,
     "metadata": {},
     "output_type": "execute_result"
    }
   ],
   "source": [
    "from datetime import datetime, timedelta\n",
    "\n",
    "def standardise_start_times(df):\n",
    "    \"\"\"\n",
    "    Standardizes start times using end time and duration information.\n",
    "    \n",
    "    Args:\n",
    "    df: DataFrame with 'Start Time', 'End Time', and 'Duration' columns\n",
    "    \n",
    "    Returns:\n",
    "    DataFrame with standardized 'Start Time' column\n",
    "    \"\"\"\n",
    "    def parse_duration(duration_str):\n",
    "        # Convert duration string (MM:SS.s) to seconds\n",
    "        minutes, seconds = duration_str.split(':')\n",
    "        return float(minutes) * 60 + float(seconds)\n",
    "    \n",
    "    # Create a copy to avoid modifying the original DataFrame\n",
    "    df = df.copy()\n",
    "    \n",
    "    # Convert end times to datetime\n",
    "    df['End Time'] = pd.to_datetime(df['Start Time'].str[:11] + df['End Time'], \n",
    "                                  format='%d/%m/%Y %H:%M:%S')\n",
    "    \n",
    "    # Convert durations to timedelta\n",
    "    durations = pd.to_timedelta(df['Duration'].apply(parse_duration), unit='s')\n",
    "    \n",
    "    # Calculate precise start times by subtracting duration from end time\n",
    "    #df['Derived Start Time'] = df['End Time'] - durations\n",
    "    df.insert(3, 'Calculated Start Time', df['End Time'] - durations)\n",
    "    \n",
    "    return df\n",
    "\n",
    "df = standardise_start_times(df)\n",
    "df"
   ]
  },
  {
   "cell_type": "markdown",
   "metadata": {},
   "source": [
    "# Get Start Time Granularity"
   ]
  },
  {
   "cell_type": "markdown",
   "metadata": {},
   "source": [
    "# Q1 : What are the most common sequences of high-intensity activities, including accelerations, sprints, and decelerations?  "
   ]
  },
  {
   "cell_type": "code",
   "execution_count": null,
   "metadata": {},
   "outputs": [],
   "source": [
    "# first function should be derive actual start time"
   ]
  },
  {
   "cell_type": "code",
   "execution_count": null,
   "metadata": {},
   "outputs": [],
   "source": [
    "def most_common_event_sequences():"
   ]
  },
  {
   "cell_type": "markdown",
   "metadata": {},
   "source": [
    "# Q2 : How often do players accelerate and then immediately transition into a sprint?  "
   ]
  },
  {
   "cell_type": "code",
   "execution_count": null,
   "metadata": {},
   "outputs": [],
   "source": [
    "def consecutive_action_frequency():"
   ]
  },
  {
   "cell_type": "markdown",
   "metadata": {},
   "source": [
    "# Q3 : How frequently do players decelerate right after completing a sprint?  "
   ]
  },
  {
   "cell_type": "markdown",
   "metadata": {},
   "source": [
    "# dealt with by ---> def consecutive_action_frequency():"
   ]
  },
  {
   "cell_type": "markdown",
   "metadata": {},
   "source": [
    "# Q4: How often do players sprint, decelerate, change direction and then immediately transition into another sprint?\n"
   ]
  },
  {
   "cell_type": "code",
   "execution_count": null,
   "metadata": {},
   "outputs": [],
   "source": [
    "#  temporarily deprecated due to lack of direction  change metrics"
   ]
  },
  {
   "cell_type": "code",
   "execution_count": null,
   "metadata": {},
   "outputs": [],
   "source": [
    "# Seperately N action fitler. gets N action"
   ]
  },
  {
   "cell_type": "markdown",
   "metadata": {},
   "source": [
    "# Q5: For sprints greater than 40m, how often do players decelerate, change direction and then immediately transition into another sprint?\n"
   ]
  },
  {
   "cell_type": "code",
   "execution_count": null,
   "metadata": {},
   "outputs": [],
   "source": [
    "# distance filter function"
   ]
  },
  {
   "cell_type": "markdown",
   "metadata": {},
   "source": [
    "# Q6: What is the most common GPS variable output after sprints of >50m?\n"
   ]
  },
  {
   "cell_type": "code",
   "execution_count": null,
   "metadata": {},
   "outputs": [],
   "source": [
    "# Specific Action"
   ]
  },
  {
   "cell_type": "markdown",
   "metadata": {},
   "source": [
    "# Q7: How often do players have to complete long sprints?\n"
   ]
  },
  {
   "cell_type": "code",
   "execution_count": null,
   "metadata": {},
   "outputs": [],
   "source": [
    "# Action frequency "
   ]
  },
  {
   "cell_type": "markdown",
   "metadata": {},
   "source": [
    "# Q8: How often do players have to complete multiple long sprints in a short period?\n"
   ]
  },
  {
   "cell_type": "code",
   "execution_count": null,
   "metadata": {},
   "outputs": [],
   "source": [
    "# Actions in a time period"
   ]
  },
  {
   "cell_type": "markdown",
   "metadata": {},
   "source": [
    "# Q9: How often do players have to go through a series of high-intensity activities and then complete a long sprint?\n"
   ]
  },
  {
   "cell_type": "code",
   "execution_count": null,
   "metadata": {},
   "outputs": [],
   "source": [
    "# Final Action"
   ]
  },
  {
   "cell_type": "markdown",
   "metadata": {},
   "source": [
    "# Q10: What happens most often after a series of high-intensity activities?\n"
   ]
  },
  {
   "cell_type": "code",
   "execution_count": null,
   "metadata": {},
   "outputs": [],
   "source": [
    "#N series detection"
   ]
  }
 ],
 "metadata": {
  "kernelspec": {
   "display_name": "footydata",
   "language": "python",
   "name": "python3"
  },
  "language_info": {
   "codemirror_mode": {
    "name": "ipython",
    "version": 3
   },
   "file_extension": ".py",
   "mimetype": "text/x-python",
   "name": "python",
   "nbconvert_exporter": "python",
   "pygments_lexer": "ipython3",
   "version": "3.11.9"
  }
 },
 "nbformat": 4,
 "nbformat_minor": 2
}
